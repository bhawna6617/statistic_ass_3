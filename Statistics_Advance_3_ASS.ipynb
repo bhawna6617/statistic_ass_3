{
 "cells": [
  {
   "cell_type": "markdown",
   "id": "f6f16fe9",
   "metadata": {},
   "source": [
    "# question 1"
   ]
  },
  {
   "cell_type": "code",
   "execution_count": 1,
   "id": "dc7766d8",
   "metadata": {},
   "outputs": [],
   "source": [
    "\n",
    "# Estimation statistics is a branch of statistics that deals with the process of estimating population parameters based on sample data. When you want to make inferences about a population, but you can't collect data from the entire population, you use estimation statistics to make educated guesses about the population parameters.\n",
    "\n",
    "# There are two main types of estimation in statistics: point estimation and interval estimation.\n",
    "\n",
    "# Point Estimate:\n",
    "\n",
    "# A point estimate is a single value that is used to approximate the population parameter of interest. It's essentially your best guess at the true value of the parameter based on the sample data.\n",
    "# For example, if you want to estimate the mean height of a population and you take a sample of individuals, the sample mean is a point estimate of the population mean.\n",
    "# Point estimates are often denoted by symbols like \"θ̂\" (theta-hat) or \"μ̂\" (mu-hat) for population means or \"p̂\" (p-hat) for population proportions.\n",
    "# Interval Estimate:\n",
    "\n",
    "# An interval estimate provides a range of values within which the population parameter is likely to fall. It recognizes the uncertainty associated with point estimates and conveys the level of confidence you have in your estimate.\n",
    "# The most common type of interval estimate is the confidence interval. A confidence interval consists of a point estimate and a margin of error, which defines a range around the point estimate.\n",
    "# For example, you might calculate a 95% confidence interval for the population mean height, which could be expressed as (65.2 inches, 68.0 inches). This means you are 95% confident that the true population mean falls within this range.\n",
    "# The confidence level, often expressed as a percentage (e.g., 95%), represents the level of confidence you have in the interval estimate. The larger the confidence level, the wider the interval.\n"
   ]
  },
  {
   "cell_type": "markdown",
   "id": "2cc62557",
   "metadata": {},
   "source": [
    "# question 2"
   ]
  },
  {
   "cell_type": "code",
   "execution_count": 2,
   "id": "ba06ab77",
   "metadata": {},
   "outputs": [],
   "source": [
    "# def estimate_population_mean(sample_mean, sample_std_dev):\n",
    "#     return sample_mean\n",
    "\n",
    "# # Example usage:\n",
    "# sample_mean = 70.5  # Replace with your sample mean\n",
    "# sample_std_dev = 3.2  # Replace with your sample standard deviation\n",
    "\n",
    "# estimated_mean = estimate_population_mean(sample_mean, sample_std_dev)\n",
    "# print(\"Estimated Population Mean:\", estimated_mean)\n"
   ]
  },
  {
   "cell_type": "markdown",
   "id": "1d354dd8",
   "metadata": {},
   "source": [
    "# question3"
   ]
  },
  {
   "cell_type": "code",
   "execution_count": 3,
   "id": "d88bc870",
   "metadata": {},
   "outputs": [],
   "source": [
    "\n",
    "# Hypothesis testing is a fundamental and systematic procedure in statistics used to make inferences about a population based on a sample of data. It is a method for evaluating claims or hypotheses about a population parameter to determine whether the available evidence supports or contradicts those claims. Hypothesis testing is widely used in various fields such as science, medicine, economics, and social sciences to draw conclusions and make informed decisions. Here's an overview of hypothesis testing and its importance:\n",
    "\n",
    "# Key Steps in Hypothesis Testing:\n",
    "\n",
    "# Formulate Hypotheses:\n",
    "\n",
    "# The null hypothesis typically represents a statement of no effect or no difference, while the alternative hypothesis represents the claim or effect you want to test.\n",
    "# Collect Data:\n",
    "\n",
    "# Gather relevant data through observations, experiments, or surveys.\n",
    "# Perform Statistical Analysis:\n",
    "\n",
    "# Use appropriate statistical methods to analyze the data, such as calculating test statistics or p-values.\n",
    "# Make a Decision:\n",
    "\n",
    "# Based on the analysis, you decide whether to accept the null hypothesis or reject it.\n",
    "# This decision is made using a predetermined significance level (\n",
    "\n",
    "# α), which sets the threshold for statistical significance.\n",
    "# Draw Conclusions:\n",
    "\n",
    "# If you reject the null hypothesis, you conclude that there is evidence to support the alternative hypothesis.\n",
    "# If you fail to reject the null hypothesis, you conclude that there is insufficient evidence to support the alternative hypothesis.\n",
    "# Importance of Hypothesis Testing:\n",
    "\n",
    "# Scientific Inquiry: Hypothesis testing is essential for scientific research. It allows researchers to test theories and hypotheses, providing empirical evidence to support or refute their ideas. This process advances our understanding of the natural world.\n",
    "\n",
    "# Data-Driven Decision Making: In various fields, including business, healthcare, and policy-making, decisions must be based on data. Hypothesis testing provides a structured way to make decisions by evaluating evidence.\n",
    "\n",
    "# Quality Control and Process Improvement: In manufacturing and industry, hypothesis testing is used to ensure product quality and optimize processes. It helps identify and correct issues in a systematic manner.\n",
    "\n",
    "# Medical Research and Treatment: In medicine, hypothesis testing is crucial for clinical trials to determine the efficacy of new treatments or interventions. It ensures that only effective treatments are adopted.\n",
    "\n",
    "# Risk Assessment: Hypothesis testing is employed in financial risk assessment, helping to make investment decisions, evaluate the performance of portfolios, and manage financial risks.\n",
    "\n",
    "# Policy Evaluation: In social and political sciences, hypothesis testing is used to assess the impact of policies, programs, and interventions. It informs policymakers about the effectiveness of their initiatives.\n",
    "\n",
    "# Legal and Regulatory Compliance: In legal and regulatory contexts, hypothesis testing is used to determine guilt or innocence, establish liability, or ensure compliance with regulations.\n",
    "\n",
    "# Quality Assurance: In research and development, hypothesis testing is vital to assess the quality and reliability of products and services.\n",
    "\n"
   ]
  },
  {
   "cell_type": "markdown",
   "id": "2a5afcd6",
   "metadata": {},
   "source": [
    "# question 4"
   ]
  },
  {
   "cell_type": "code",
   "execution_count": 4,
   "id": "6ee34583",
   "metadata": {},
   "outputs": [],
   "source": [
    "# Certainly, you can create a hypothesis to test whether the average weight of male college students is greater than the average weight of female college students. Here's how you can formulate this hypothesis:\n",
    "\n",
    "# **Null Hypothesis (\\(H_0\\)):**\n",
    "# The average weight of male college students is equal to or less than the average weight of female college students.\n",
    "\n",
    "# **Alternative Hypothesis (\\(H_1\\) or \\(H_a\\)):**\n",
    "# The average weight of male college students is greater than the average weight of female college students.\n",
    "\n",
    "# In symbols, this can be represented as:\n",
    "\n",
    "# \\(H_0: \\mu_{\\text{male}} \\leq \\mu_{\\text{female}}\\)\n",
    "\n",
    "# \\(H_1: \\mu_{\\text{male}} > \\mu_{\\text{female}}\\)\n",
    "\n",
    "# Where:\n",
    "# - \\(H_0\\) is the null hypothesis, which suggests no significant difference.\n",
    "# - \\(H_1\\) is the alternative hypothesis, which suggests a significant difference with male students having a greater average weight.\n",
    "\n",
    "# This hypothesis can then be tested using appropriate statistical methods, such as a one-sample or two-sample t-test or a z-test, depending on the data and the specifics of the study. The test would evaluate whether there is enough evidence to reject the null hypothesis in favor of the alternative hypothesis, indicating whether there is a statistically significant difference in the average weights of male and female college students."
   ]
  },
  {
   "cell_type": "markdown",
   "id": "5b9e2fe6",
   "metadata": {},
   "source": [
    "# question 5"
   ]
  },
  {
   "cell_type": "code",
   "execution_count": 5,
   "id": "3ef266d6",
   "metadata": {},
   "outputs": [],
   "source": [
    "# import numpy as np\n",
    "# from scipy import stats\n",
    "\n",
    "# # Sample data for two populations (replace with your own data)\n",
    "# population1 = np.array([70, 72, 74, 75, 71, 68, 73, 69, 72, 76])\n",
    "# population2 = np.array([63, 65, 68, 64, 66, 67, 65, 62, 70, 68])\n",
    "\n",
    "# # Perform a two-sample t-test\n",
    "# t_stat, p_value = stats.ttest_ind(population1, population2)\n",
    "\n",
    "# # Define your significance level (alpha)\n",
    "# alpha = 0.05  # You can adjust this based on your desired level of significance\n",
    "\n",
    "# # Print the results\n",
    "# print(\"T-statistic:\", t_stat)\n",
    "# print(\"P-value:\", p_value)\n",
    "\n",
    "# # Check if the p-value is less than the significance level to make a decision\n",
    "# if p_value < alpha:\n",
    "#     print(\"Reject the null hypothesis. There is a significant difference.\")\n",
    "# else:\n",
    "#     print(\"Fail to reject the null hypothesis. There is no significant difference.\")\n"
   ]
  },
  {
   "cell_type": "markdown",
   "id": "7ed8a828",
   "metadata": {},
   "source": [
    "# question6"
   ]
  },
  {
   "cell_type": "code",
   "execution_count": 6,
   "id": "01626402",
   "metadata": {},
   "outputs": [],
   "source": [
    "# **Null Hypothesis (\\(H_0\\)):** \n",
    "# The null hypothesis is a statement that there is no significant effect, no difference, or no relationship in the population. It is often a default or conservative assumption that you seek to test. In hypothesis testing, you aim to either reject or fail to reject the null hypothesis based on your analysis of sample data. The null hypothesis is denoted as \\(H_0\\).\n",
    "\n",
    "# **Alternative Hypothesis (\\(H_1\\) or \\(H_a\\)):**\n",
    "# The alternative hypothesis is a statement that contradicts the null hypothesis. It represents the claim or effect you want to test, suggesting that there is a significant effect, difference, or relationship in the population. In other words, the alternative hypothesis is what you hope to support with your data. It is denoted as \\(H_1\\) or \\(H_a\\).\n",
    "\n",
    "# Here are some examples of null and alternative hypotheses:\n",
    "\n",
    "# 1. **Example 1 - A/B Testing:**\n",
    "#    - Null Hypothesis (\\(H_0\\)): The new website design does not lead to a significant increase in user engagement compared to the old design.\n",
    "#    - Alternative Hypothesis (\\(H_1\\)): The new website design leads to a significant increase in user engagement compared to the old design.\n",
    "\n",
    "# 2. **Example 2 - Medical Research:**\n",
    "#    - Null Hypothesis (\\(H_0\\)): The experimental drug has no effect on reducing blood pressure.\n",
    "#    - Alternative Hypothesis (\\(H_1\\)): The experimental drug significantly reduces blood pressure.\n",
    "\n",
    "# 3. **Example 3 - Quality Control:**\n",
    "#    - Null Hypothesis (\\(H_0\\)): The mean weight of the product meets the specified standard.\n",
    "#    - Alternative Hypothesis (\\(H_1\\)): The mean weight of the product deviates from the specified standard.\n",
    "\n",
    "# 4. **Example 4 - Social Sciences:**\n",
    "#    - Null Hypothesis (\\(H_0\\)): There is no significant difference in the job satisfaction of employees in Group A and Group B.\n",
    "#    - Alternative Hypothesis (\\(H_1\\)): There is a significant difference in the job satisfaction of employees in Group A and Group B.\n",
    "\n",
    "# 5. **Example 5 - Environmental Science:**\n",
    "#    - Null Hypothesis (\\(H_0\\)): There is no correlation between pollution levels and the decline in the local bird population.\n",
    "#    - Alternative Hypothesis (\\(H_1\\)): There is a correlation between pollution levels and the decline in the local bird population.\n",
    "\n",
    "# In each of these examples, the null hypothesis represents a statement of no effect or no difference, while the alternative hypothesis represents the statement being tested, which suggests that there is a significant effect, difference, or relationship. The goal of hypothesis testing is to evaluate the evidence from sample data to decide whether to reject the null hypothesis in favor of the alternative hypothesis."
   ]
  },
  {
   "cell_type": "markdown",
   "id": "8912b344",
   "metadata": {},
   "source": [
    "# question 7"
   ]
  },
  {
   "cell_type": "code",
   "execution_count": 7,
   "id": "d099781c",
   "metadata": {},
   "outputs": [],
   "source": [
    "# Hypothesis testing is a systematic and structured process for making inferences about population parameters based on sample data. The process involves several key steps. Here are the typical steps involved in hypothesis testing:\n",
    "\n",
    "# 1. **Formulate Hypotheses:**\n",
    "#    - Start by defining a null hypothesis (\\(H_0\\)) and an alternative hypothesis (\\(H_1\\) or \\(H_a\\)). The null hypothesis represents the status quo or a statement of no effect, while the alternative hypothesis represents the claim you want to test.\n",
    "\n",
    "# 2. **Collect Data:**\n",
    "#    - Gather relevant data through observations, experiments, surveys, or sampling from the population of interest.\n",
    "\n",
    "# 3. **Select a Significance Level (\\(α\\)):**\n",
    "#    - Choose a predetermined significance level, often denoted as \\(α\\), which sets the threshold for statistical significance. Common choices include 0.05 (5%) or 0.01 (1%), depending on the level of confidence desired.\n",
    "\n",
    "# 4. **Choose a Statistical Test:**\n",
    "#    - Select an appropriate statistical test based on the nature of the data and the hypotheses being tested. Common tests include t-tests, chi-squared tests, ANOVA, correlation analysis, and more.\n",
    "\n",
    "# 5. **Calculate the Test Statistic:**\n",
    "#    - Perform the chosen statistical analysis on the sample data to calculate the test statistic (e.g., t-statistic, F-statistic, z-score) that quantifies the relationship or difference between the sample data and the null hypothesis.\n",
    "\n",
    "# 6. **Determine the P-Value:**\n",
    "#    - Calculate the p-value associated with the test statistic. The p-value represents the probability of obtaining results as extreme as, or more extreme than, what was observed, assuming the null hypothesis is true.\n",
    "\n",
    "# 7. **Compare P-Value to α:**\n",
    "#    - Compare the p-value to the predetermined significance level (\\(α\\)). If the p-value is less than or equal to \\(α\\), it suggests that the observed results are statistically significant, and you may reject the null hypothesis. If the p-value is greater than \\(α\\), you fail to reject the null hypothesis.\n",
    "\n",
    "# 8. **Make a Decision:**\n",
    "#    - Based on the comparison in step 7, make a decision:\n",
    "#      - If p-value ≤ \\(α\\), reject the null hypothesis in favor of the alternative hypothesis.\n",
    "#      - If p-value > \\(α\\), fail to reject the null hypothesis.\n",
    "\n",
    "# 9. **Interpret the Results:**\n",
    "#    - If you reject the null hypothesis, interpret the results in the context of your research or problem. It means there is evidence for the alternative hypothesis.\n",
    "#    - If you fail to reject the null hypothesis, interpret the results accordingly. It means there is not enough evidence to support the alternative hypothesis.\n",
    "\n",
    "# 10. **Draw Conclusions:**\n",
    "#     - Based on your interpretation, draw conclusions about the population based on the sample data. Make recommendations or decisions as appropriate.\n",
    "\n",
    "# 11. **Report Findings:**\n",
    "#     - Communicate the results of the hypothesis test in a clear and concise manner, including the test statistic, p-value, and your conclusion. Provide context and implications for the findings.\n",
    "\n",
    "# Hypothesis testing is a critical tool in statistical analysis, scientific research, and decision-making, as it allows you to draw valid conclusions and make informed decisions based on empirical evidence."
   ]
  },
  {
   "cell_type": "markdown",
   "id": "fae90a72",
   "metadata": {},
   "source": [
    "# question 8"
   ]
  },
  {
   "cell_type": "code",
   "execution_count": 8,
   "id": "1e7afb3b",
   "metadata": {},
   "outputs": [],
   "source": [
    "# **P-value** (short for \"probability value\") is a fundamental concept in hypothesis testing. It is a quantitative measure that helps you determine the strength of the evidence against the null hypothesis in a hypothesis test. The p-value is a probability that summarizes the likelihood of observing a result as extreme as, or more extreme than, the one obtained from the sample data, assuming that the null hypothesis is true. In other words, it quantifies the probability of obtaining the observed results if there is no effect or difference in the population.\n",
    "\n",
    "# Here's a more detailed explanation of the significance of p-values in hypothesis testing:\n",
    "\n",
    "# 1. **Interpretation of P-Value:**\n",
    "#    - A small p-value indicates that the observed data are highly unlikely under the null hypothesis. In this case, it suggests strong evidence against the null hypothesis.\n",
    "#    - A large p-value, on the other hand, indicates that the observed data are consistent with the null hypothesis. It suggests weak or no evidence against the null hypothesis.\n",
    "\n",
    "# 2. **Significance Level (\\(α\\)):**\n",
    "#    - Before conducting the hypothesis test, you choose a significance level (\\(α\\)) to determine the threshold for statistical significance. Common choices include 0.05 (5%) or 0.01 (1%).\n",
    "#    - If the p-value is less than or equal to the chosen significance level (\\(α\\)), you typically reject the null hypothesis.\n",
    "#    - If the p-value is greater than \\(α\\), you fail to reject the null hypothesis.\n",
    "\n",
    "# 3. **Decision-Making:**\n",
    "#    - The p-value provides a basis for making decisions in hypothesis testing. If the p-value is less than the chosen \\(α\\), you conclude that the evidence is strong enough to reject the null hypothesis in favor of the alternative hypothesis.\n",
    "#    - If the p-value is greater than \\(α\\), you conclude that there is not enough evidence to reject the null hypothesis.\n",
    "\n",
    "# 4. **Measuring Statistical Significance:**\n",
    "#    - P-values allow you to quantify the degree of statistical significance of your results. A smaller p-value suggests a more significant result, while a larger p-value implies less significance.\n",
    "\n",
    "# 5. **Continuous Assessment:**\n",
    "#    - P-values offer a continuous measure of evidence. They are not limited to a simple \"reject\" or \"fail to reject\" decision, and they provide a gradation of evidence strength.\n",
    "\n",
    "# 6. **Consideration of Context:**\n",
    "#    - It's important to interpret p-values in the context of the specific hypothesis test and research problem. A small p-value may be practically significant in some cases, while it may not be in others.\n",
    "\n",
    "# 7. **Caution and Replicability:**\n",
    "#    - It's important to note that p-values are not a guarantee of truth. They provide evidence against the null hypothesis, but statistical significance does not necessarily imply practical or scientific significance.\n",
    "#    - Replicability and further research are crucial for confirming the validity of findings.\n",
    "\n",
    "# In summary, p-values play a central role in hypothesis testing by quantifying the strength of evidence against the null hypothesis. They help researchers, scientists, and analysts make informed decisions based on statistical evidence and determine whether the observed results are statistically significant or merely due to chance."
   ]
  },
  {
   "cell_type": "markdown",
   "id": "329d1e2f",
   "metadata": {},
   "source": [
    "# question9"
   ]
  },
  {
   "cell_type": "code",
   "execution_count": 9,
   "id": "448e5d1c",
   "metadata": {},
   "outputs": [],
   "source": [
    "# import numpy as np\n",
    "# import matplotlib.pyplot as plt\n",
    "# from scipy.stats import t\n",
    "\n",
    "# # Define the degrees of freedom\n",
    "# df = 10\n",
    "\n",
    "# # Generate x-values\n",
    "# x = np.linspace(-4, 4, 400)\n",
    "\n",
    "# # Calculate the probability density function (PDF) for the t-distribution\n",
    "# pdf = t.pdf(x, df)\n",
    "\n",
    "# # Create the t-distribution plot\n",
    "# plt.plot(x, pdf, label=f't-Distribution (df={df})')\n",
    "# plt.title(f'Student\\'s t-Distribution (df={df})')\n",
    "# plt.xlabel('x')\n",
    "# plt.ylabel('Probability Density')\n",
    "# plt.legend()\n",
    "# plt.grid(True)\n",
    "# plt.show()\n"
   ]
  },
  {
   "cell_type": "markdown",
   "id": "26d830d7",
   "metadata": {},
   "source": [
    "# question 10"
   ]
  },
  {
   "cell_type": "code",
   "execution_count": 10,
   "id": "5e99fd8e",
   "metadata": {},
   "outputs": [],
   "source": [
    "# import numpy as np\n",
    "# from scipy import stats\n",
    "\n",
    "# # Generate two random samples (replace with your own data)\n",
    "# sample1 = np.random.normal(loc=5, scale=2, size=50)\n",
    "# sample2 = np.random.normal(loc=6, scale=2, size=50)\n",
    "\n",
    "# # Perform a two-sample t-test\n",
    "# t_stat, p_value = stats.ttest_ind(sample1, sample2)\n",
    "\n",
    "# # Define your significance level (alpha)\n",
    "# alpha = 0.05  # You can adjust this based on your desired level of significance\n",
    "\n",
    "# # Print the results\n",
    "# print(\"T-statistic:\", t_stat)\n",
    "# print(\"P-value:\", p_value)\n",
    "\n",
    "# # Check if the p-value is less than the significance level to make a decision\n",
    "# if p_value < alpha:\n",
    "#     print(\"Reject the null hypothesis. There is a significant difference.\")\n",
    "# else:\n",
    "#     print(\"Fail to reject the null hypothesis. There is no significant difference.\")\n"
   ]
  },
  {
   "cell_type": "code",
   "execution_count": null,
   "id": "eb709173",
   "metadata": {},
   "outputs": [],
   "source": []
  }
 ],
 "metadata": {
  "kernelspec": {
   "display_name": "Python 3 (ipykernel)",
   "language": "python",
   "name": "python3"
  },
  "language_info": {
   "codemirror_mode": {
    "name": "ipython",
    "version": 3
   },
   "file_extension": ".py",
   "mimetype": "text/x-python",
   "name": "python",
   "nbconvert_exporter": "python",
   "pygments_lexer": "ipython3",
   "version": "3.11.5"
  }
 },
 "nbformat": 4,
 "nbformat_minor": 5
}
